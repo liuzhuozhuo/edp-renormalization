{
 "cells": [
  {
   "cell_type": "code",
   "execution_count": 2,
   "metadata": {},
   "outputs": [],
   "source": [
    "import numpy as np\n",
    "import matplotlib.pyplot as plt"
   ]
  },
  {
   "cell_type": "markdown",
   "metadata": {},
   "source": [
    "Let's start tackling the problem of many types of particles, and modifiying the functions from the 1 type.\n",
    "\n",
    "To define diagram with n types of particle, we will still use the same points array as the 1 type case, but now there will be n arrays for the paths, so as a example in the case of quarks, antiquarks and gluons a simple diagram could be."
   ]
  },
  {
   "cell_type": "code",
   "execution_count": null,
   "metadata": {},
   "outputs": [],
   "source": [
    "points =  np.array([[0, -1], [0, 1], [1, 0], [2, 0]])\n",
    "paths_q = np.array([2, 4])\n",
    "paths_a = np.array([2, 3])\n",
    "paths_g = np.array([1, 2])"
   ]
  },
  {
   "cell_type": "markdown",
   "metadata": {},
   "source": [
    "But this way of separating the paths is inconvenient for the function that we define, so instead let's add them in a single array"
   ]
  },
  {
   "cell_type": "code",
   "execution_count": null,
   "metadata": {},
   "outputs": [
    {
     "ename": "ValueError",
     "evalue": "setting an array element with a sequence. The requested array has an inhomogeneous shape after 2 dimensions. The detected shape was (3, 2) + inhomogeneous part.",
     "output_type": "error",
     "traceback": [
      "\u001b[1;31m---------------------------------------------------------------------------\u001b[0m",
      "\u001b[1;31mValueError\u001b[0m                                Traceback (most recent call last)",
      "Cell \u001b[1;32mIn[7], line 1\u001b[0m\n\u001b[1;32m----> 1\u001b[0m paths \u001b[38;5;241m=\u001b[39m np\u001b[38;5;241m.\u001b[39marray([paths_q, paths_a, paths_g])\n\u001b[0;32m      2\u001b[0m \u001b[38;5;28mprint\u001b[39m(paths)\n",
      "\u001b[1;31mValueError\u001b[0m: setting an array element with a sequence. The requested array has an inhomogeneous shape after 2 dimensions. The detected shape was (3, 2) + inhomogeneous part."
     ]
    }
   ],
   "source": []
  },
  {
   "cell_type": "code",
   "execution_count": 5,
   "metadata": {},
   "outputs": [],
   "source": [
    "def find_equal_subarrays(array):\n",
    "    sorted_subarrays = [np.sort(subarray) for subarray in array]\n",
    "    unique_subarrays, indices, counts = np.unique(sorted_subarrays, axis=0, return_index=True, return_counts=True)\n",
    "    duplicate_positions = [np.where((sorted_subarrays == unique_subarrays[i]).all(axis=1))[0] for i in range(len(unique_subarrays)) if counts[i] > 1]\n",
    "    return duplicate_positions\n",
    "\n",
    "def represent_diagram (points, paths, index = False, directory = \"\", colors = \"tab:blue\"):\n",
    "    fig=plt.figure(figsize=(5,3)) \n",
    "    ax=fig.add_subplot(111)\n",
    "    ax.axis('off')\n",
    "    loops = find_equal_subarrays(paths)\n",
    "    for i in range(len(paths)):\n",
    "        if np.isin(i, loops):\n",
    "            middle_point = (points[paths[i, 0]-1] + points[paths[i, 1]-1]) / 2\n",
    "            circle = plt.Circle((middle_point[0], middle_point[1]), np.linalg.norm(points[paths[i, 0]-1]-middle_point), color=colors, fill=False)\n",
    "            ax.add_patch(circle)\n",
    "        else:\n",
    "            ax.plot([points[paths[i, 0]-1, 0], points[paths[i, 1]-1, 0]], [points[paths[i, 0]-1, 1], points[paths[i, 1]-1, 1]], color=colors)\n",
    "    if index:\n",
    "        for i in range(len(points)):\n",
    "            ax.text(points[i, 0], points[i, 1], str(i+1), fontsize=12, color=\"black\", ha=\"right\", va=\"top\")\n",
    "    if directory != \"\":\n",
    "        plt.savefig(directory, bbox_inches='tight')\n",
    "        plt.close()"
   ]
  }
 ],
 "metadata": {
  "kernelspec": {
   "display_name": "base",
   "language": "python",
   "name": "python3"
  },
  "language_info": {
   "codemirror_mode": {
    "name": "ipython",
    "version": 3
   },
   "file_extension": ".py",
   "mimetype": "text/x-python",
   "name": "python",
   "nbconvert_exporter": "python",
   "pygments_lexer": "ipython3",
   "version": "3.12.7"
  }
 },
 "nbformat": 4,
 "nbformat_minor": 2
}
