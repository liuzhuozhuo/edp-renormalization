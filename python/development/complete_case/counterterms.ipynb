{
 "cells": [
  {
   "cell_type": "markdown",
   "id": "bbba2549",
   "metadata": {},
   "source": [
    "To obtain all the counterterms that emerge at each order in the perturbation expansion.\n",
    "\n",
    "The different counterterm diagrams at each order will be of the form.\n",
    "\n",
    "As the order increases the number of  \n",
    "\n",
    "For example:\n",
    "- 2nd order we would only have the counterterm 1-o-1.\n",
    "- 3rd order we would have the counterterms 1-o-2 and 2-o-1.\n",
    "- 4th order we would have: 1-o-1, 1-o-3, 3-o-1, 2-o-2.\n",
    "- 5th order: 1-o-2, 2-o-1, 1-o-4, 4-o-1, 2-o-3, 3-o-2.\n",
    "- 6th order: 1-o-1, 1-o-3, 3-o-1, 2-o-2, 1-o-5, 5-o-1, 2-o-4, 4-o-2, 3-o-3.\n",
    "and so on.\n",
    "\n",
    "So at each order we would have diagrams with the same appearance as the previous order of the same parity plus other diagrams which the sum of the number of incomming and outgoing particles equal the order considered.\n"
   ]
  },
  {
   "cell_type": "code",
   "execution_count": null,
   "id": "6ecddd3a",
   "metadata": {},
   "outputs": [],
   "source": [
    "def return_counterterm_diagrams (order):\n",
    "    "
   ]
  }
 ],
 "metadata": {
  "language_info": {
   "name": "python"
  }
 },
 "nbformat": 4,
 "nbformat_minor": 5
}
