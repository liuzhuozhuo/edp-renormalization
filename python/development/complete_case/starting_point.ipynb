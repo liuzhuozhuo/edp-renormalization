{
 "cells": [
  {
   "cell_type": "markdown",
   "id": "3823c1ef",
   "metadata": {},
   "source": [
    "Import the necessary packages:\n",
    "- numpy: to operate with arrays (and compatibility with numba if needed).\n",
    "- matplotlib.pyplot: to plot the diagrams\n",
    "- matplotlib: to change the style of the lines for some particles.\n",
    "- from scipy.special: binom, factorial, functions to calculate binomial and factorial."
   ]
  },
  {
   "cell_type": "code",
   "execution_count": null,
   "id": "63afcb29",
   "metadata": {},
   "outputs": [],
   "source": []
  }
 ],
 "metadata": {
  "language_info": {
   "name": "python"
  }
 },
 "nbformat": 4,
 "nbformat_minor": 5
}
