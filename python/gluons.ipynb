{
 "cells": [
  {
   "cell_type": "markdown",
   "id": "0d282402",
   "metadata": {},
   "source": [
    "## Construction of n-th order diagrams for the case of gluons\n",
    "\n",
    "Let's apply what we developed specifically for the case of gluons. Remember that the way that we specify for the case that we are in is with the canonical diagrams, and as a consequence of it the number of different particles. All the higher order diagrams will be constructed starting from those diagrams. These diagrams will be defined in a separate python file to avoid cluster, and being able to use it in other programs.\n",
    "\n",
    "There are many thing that it's important to take into account.\n",
    "- Although there is only one type of particle, due to the presence of instant paths, this will be interpreted as a new type of particle in the code.\n",
    "- To represent counter terms, we need to be able to detect loops and formalice a definition within our stablished arrays.\n",
    "\n",
    "For the second problem there is a easy fix, let's define the path `[i, i]`, with i the index for the point where the counter term dot will be located within the points of the diagram. This way when a loop is detected, a new diagram with `[i, i]` instead of the loop will be added."
   ]
  },
  {
   "cell_type": "markdown",
   "id": "cb899a7e",
   "metadata": {},
   "source": [
    "### Import packages\n",
    "\n",
    "The only package that need to be imported is numpy, since the all the functions used and canonical diagrams will be coming from another python file."
   ]
  },
  {
   "cell_type": "code",
   "execution_count": null,
   "id": "5d28b508",
   "metadata": {},
   "outputs": [],
   "source": [
    "import numpy as np\n",
    "#Import the cannonical gluon diagrams\n",
    "from can_diagrams.gluon_diagrams import * \n"
   ]
  }
 ],
 "metadata": {
  "kernelspec": {
   "display_name": "base",
   "language": "python",
   "name": "python3"
  },
  "language_info": {
   "name": "python",
   "version": "3.10.13"
  }
 },
 "nbformat": 4,
 "nbformat_minor": 5
}
