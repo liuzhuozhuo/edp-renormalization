{
 "cells": [
  {
   "cell_type": "code",
   "execution_count": 41,
   "metadata": {},
   "outputs": [],
   "source": [
    "import numpy as np\n",
    "import matplotlib.pyplot as plt\n",
    "import matplotlib as mpl"
   ]
  },
  {
   "cell_type": "markdown",
   "metadata": {},
   "source": [
    "Let's start tackling the problem of many types of particles, and modifiying the functions from the 1 type.\n",
    "\n",
    "To define diagram with n types of particle, we will still use the same points array as the 1 type case, but now there will be n arrays for the paths, so as a example in the case of quarks, antiquarks and gluons a simple diagram could be."
   ]
  },
  {
   "cell_type": "code",
   "execution_count": 42,
   "metadata": {},
   "outputs": [],
   "source": [
    "points =  np.array([[0, -1], [0, 1], [1, 0], [2, 0]])\n",
    "paths_q = np.array([[1, 3]])\n",
    "paths_a = np.array([[2, 3]])\n",
    "paths_g = np.array([[3, 4]])"
   ]
  },
  {
   "cell_type": "markdown",
   "metadata": {},
   "source": [
    "But this way of separating the paths is inconvenient for the function that we define, so instead let's add them in a single array"
   ]
  },
  {
   "cell_type": "code",
   "execution_count": 43,
   "metadata": {},
   "outputs": [],
   "source": [
    "def combine_paths(*paths):\n",
    "    max_len = max([len(path) for path in paths])\n",
    "    final_path = np.zeros((len(paths), max_len, 2), dtype=int)\n",
    "    for i in range(len(paths)):\n",
    "        if len(paths[i]) < max_len:\n",
    "            final_path[i] = np.append(paths[i], np.zeros((max_len - len(paths[i]), 2), dtype=int), axis=0)\n",
    "        else:\n",
    "            final_path[i] = paths[i]\n",
    "    return final_path\n",
    "        \n",
    "paths = combine_paths(paths_q, paths_a, paths_g)"
   ]
  },
  {
   "cell_type": "code",
   "execution_count": 44,
   "metadata": {},
   "outputs": [],
   "source": [
    "def find_equal_subarrays(array):\n",
    "    sorted_subarrays = [np.sort(subarray) for subarray in array]\n",
    "    unique_subarrays, indices, counts = np.unique(sorted_subarrays, axis=0, return_index=True, return_counts=True)\n",
    "    duplicate_positions = [np.where((sorted_subarrays == unique_subarrays[i]).all(axis=1))[0] for i in range(len(unique_subarrays)) if counts[i] > 1]\n",
    "    return duplicate_positions\n",
    "\n",
    "def represent_diagram (points, all_paths, index = False, directory = \"\", colors = [\"tab:blue\", \"tab:red\", \"black\"], line = [\"solid\", \"solid\", \"dashed\"]):\n",
    "    fig=plt.figure(figsize=(5,3)) \n",
    "    ax=fig.add_subplot(111)\n",
    "    ax.axis('off')\n",
    "    j = 0\n",
    "    for paths in all_paths:\n",
    "        loops = find_equal_subarrays(paths)\n",
    "        for i in range(len(paths)):\n",
    "            if (line[j] == \"dashed\"):\n",
    "                with mpl.rc_context({'path.sketch': (3, 15, 1)}):\n",
    "                    if np.isin(i, loops):\n",
    "                        middle_point = (points[paths[i, 0]-1] + points[paths[i, 1]-1]) / 2\n",
    "                        circle = plt.Circle((middle_point[0], middle_point[1]), np.linalg.norm(points[paths[i, 0]-1]-middle_point), color=colors[j], fill=False)\n",
    "                        ax.add_patch(circle)\n",
    "                    else:\n",
    "                        ax.plot([points[paths[i, 0]-1, 0], points[paths[i, 1]-1, 0]], [points[paths[i, 0]-1, 1], points[paths[i, 1]-1, 1]], color=colors[j])\n",
    "            else:\n",
    "                if np.isin(i, loops):\n",
    "                    middle_point = (points[paths[i, 0]-1] + points[paths[i, 1]-1]) / 2\n",
    "                    circle = plt.Circle((middle_point[0], middle_point[1]), np.linalg.norm(points[paths[i, 0]-1]-middle_point), color=colors[j], fill=False, linestyle=line[j])\n",
    "                    ax.add_patch(circle)\n",
    "                else:\n",
    "                    ax.plot([points[paths[i, 0]-1, 0], points[paths[i, 1]-1, 0]], [points[paths[i, 0]-1, 1], points[paths[i, 1]-1, 1]], color=colors[j], linestyle=line[j])\n",
    "        j+=1\n",
    "    if index:\n",
    "        for i in range(len(points)):\n",
    "            ax.text(points[i, 0], points[i, 1], str(i+1), fontsize=12, color=\"black\", ha=\"right\", va=\"top\")\n",
    "    if directory != \"\":\n",
    "        plt.savefig(directory, bbox_inches='tight')\n",
    "        plt.close()"
   ]
  },
  {
   "cell_type": "code",
   "execution_count": 45,
   "metadata": {},
   "outputs": [
    {
     "data": {
      "image/png": "[encoded data removed]",
      "text/plain": [
       "<Figure size 500x300 with 1 Axes>"
      ]
     },
     "metadata": {},
     "output_type": "display_data"
    }
   ],
   "source": [
    "represent_diagram(points, paths, index=True)"
   ]
  },
  {
   "cell_type": "code",
   "execution_count": 46,
   "metadata": {},
   "outputs": [
    {
     "name": "stdout",
     "output_type": "stream",
     "text": [
      "[1 2 4]\n"
     ]
    }
   ],
   "source": [
    "def unique_values(array):\n",
    "    unique, counts = np.unique(array, return_counts=True)\n",
    "    unique_values = unique[counts == 1]\n",
    "    return unique_values\n",
    "\n",
    "print(unique_values(paths.flatten()))"
   ]
  },
  {
   "cell_type": "code",
   "execution_count": 47,
   "metadata": {},
   "outputs": [],
   "source": [
    "def trim_zeros_2D(array, axis=1):\n",
    "    mask = ~(array==0).all(axis=axis)\n",
    "    inv_mask = mask[::-1]\n",
    "    start_idx = np.argmax(mask == True)\n",
    "    end_idx = len(inv_mask) - np.argmax(inv_mask == True)\n",
    "    if axis:\n",
    "        return array[start_idx:end_idx,:]\n",
    "    else:\n",
    "        return array[:, start_idx:end_idx]\n",
    "    \n",
    "def trim_zeros_3D(array):\n",
    "    # Create a mask to identify non-zero elements along each dimension\n",
    "    mask = ~(array == 0).all(axis=(1, 2))\n",
    "    trimmed_array = array[mask]\n",
    "    \n",
    "    mask = ~(trimmed_array == 0).all(axis=(0, 2))\n",
    "    trimmed_array = trimmed_array[:, mask]\n",
    "    \n",
    "    mask = ~(trimmed_array == 0).all(axis=(0, 1))\n",
    "    trimmed_array = trimmed_array[:, :, mask]\n",
    "    \n",
    "    return trimmed_array\n",
    "\n",
    "def in_out_paths (paths):\n",
    "    max_len = max([len(path) for path in paths])\n",
    "    #len(paths) is the number of type of particles\n",
    "    in_out_paths = np.zeros((len(paths), 2, max_len), dtype=int)\n",
    "    unique_vals = unique_values(paths.flatten())\n",
    "    for i in range(len(paths)):\n",
    "        inp = 0\n",
    "        out = 0\n",
    "        for j in range(max_len):\n",
    "            if paths[i, j, 0] in unique_vals:\n",
    "                in_out_paths[i, 0, inp] = paths[i, j, 0]\n",
    "                inp += 1\n",
    "            if paths[i, j, 1] in unique_vals:\n",
    "                in_out_paths[i, 1, out] = paths[i, j, 1]\n",
    "                out += 1\n",
    "    return in_out_paths"
   ]
  },
  {
   "cell_type": "code",
   "execution_count": 48,
   "metadata": {},
   "outputs": [
    {
     "name": "stdout",
     "output_type": "stream",
     "text": [
      "[[[1]\n",
      "  [0]]\n",
      "\n",
      " [[2]\n",
      "  [0]]\n",
      "\n",
      " [[0]\n",
      "  [4]]]\n"
     ]
    }
   ],
   "source": [
    "print(in_out_paths(paths))"
   ]
  },
  {
   "cell_type": "markdown",
   "metadata": {},
   "source": [
    "In the case of multiple types of particles, to connect the different points, there will be some differences compared to the 1 type case. \n",
    "\n",
    "Since now the paths are arrays with one more dimension, this need to be taken account."
   ]
  },
  {
   "cell_type": "code",
   "execution_count": null,
   "metadata": {},
   "outputs": [],
   "source": [
    "def connection (points1, paths1, points2, paths2, offset = 0):\n",
    "    in_out_paths1 = in_out_paths(paths1)\n",
    "    in_out_paths2 = in_out_paths(paths2)\n",
    "\n",
    "    #Create the new points array\n",
    "    points = np.zeros((len(points1) + len(points2), 2))\n",
    "    points[:len(points1)] = points1\n",
    "    points[len(points1):] = points2 + np.array([np.max(points1)+1, offset])\n",
    "\n",
    "    #Displace the paths of the second diagram to rename the points\n",
    "    for i in range(len(in_out_paths2)):\n",
    "        for j in range(len(in_out_paths2[0])):\n",
    "            for k in range(len(in_out_paths2[0, 0])):\n",
    "                if in_out_paths2[i, j, k] != 0:\n",
    "                    in_out_paths2[i, j, k] += len(points1)\n",
    "\n",
    "    n1 = np.zeros(len(in_out_paths1))\n",
    "    n2 = np.zeros(len(in_out_paths2))\n",
    "    max_connections = np.zeros(len(in_out_paths2))\n",
    "    for i in range(len(in_out_paths1)):\n",
    "        n1[i] = len(np.trim_zeros(in_out_paths1[i, 0]))\n",
    "        n2[i] = len(np.trim_zeros(in_out_paths2[i, 1]))\n",
    "    for i in range(len(in_out_paths1)):\n",
    "        max_connections[i] = min(n1[i], n2[i])\n",
    "\n",
    "    n_connections = 0\n",
    "\n",
    "        "
   ]
  },
  {
   "cell_type": "code",
   "execution_count": 50,
   "metadata": {},
   "outputs": [
    {
     "name": "stdout",
     "output_type": "stream",
     "text": [
      "[0. 0. 0.]\n"
     ]
    }
   ],
   "source": [
    "connection(points, paths, points, paths)"
   ]
  }
 ],
 "metadata": {
  "kernelspec": {
   "display_name": "base",
   "language": "python",
   "name": "python3"
  },
  "language_info": {
   "codemirror_mode": {
    "name": "ipython",
    "version": 3
   },
   "file_extension": ".py",
   "mimetype": "text/x-python",
   "name": "python",
   "nbconvert_exporter": "python",
   "pygments_lexer": "ipython3",
   "version": "3.10.13"
  }
 },
 "nbformat": 4,
 "nbformat_minor": 2
}
