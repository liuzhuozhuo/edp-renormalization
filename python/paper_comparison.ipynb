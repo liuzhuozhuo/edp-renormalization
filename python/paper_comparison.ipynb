{
 "cells": [
  {
   "cell_type": "markdown",
   "id": "2a83840b",
   "metadata": {},
   "source": [
    "Here is the code used to create many of the diagrams shown in the thesis."
   ]
  },
  {
   "cell_type": "code",
   "execution_count": 1,
   "id": "320ad81f",
   "metadata": {},
   "outputs": [],
   "source": [
    "import numpy as np\n",
    "from tqdm import tqdm\n",
    "#Import the cannonical gluon diagrams\n",
    "from functions.can_diagrams.gluon_diagrams import * \n",
    "from functions.gluon_functions import *"
   ]
  },
  {
   "cell_type": "code",
   "execution_count": 2,
   "id": "d6344f18",
   "metadata": {},
   "outputs": [],
   "source": [
    "type_proc = [[2, 1]]\n",
    "till_order = 3"
   ]
  },
  {
   "cell_type": "code",
   "execution_count": 3,
   "id": "d8b0fbf9",
   "metadata": {},
   "outputs": [],
   "source": [
    "points2, paths2, count2 = next_order([can_points_1st], [can_paths_1st], [can_number_1st], type_proc, till_order)\n",
    "points3, paths3, count3 = next_order([can_points_1st, points2], [can_paths_1st ,paths2], [can_number_1st, count2],type_proc, till_order)"
   ]
  },
  {
   "cell_type": "code",
   "execution_count": 4,
   "id": "90e588e5",
   "metadata": {},
   "outputs": [],
   "source": [
    "represent_order(points2, paths2, count2, [], docount= False, spacing=2, directory_=f\"diagrams/order2/\")"
   ]
  },
  {
   "cell_type": "code",
   "execution_count": 5,
   "id": "d2f0ed48",
   "metadata": {},
   "outputs": [],
   "source": [
    "represent_order(points3, paths3, count3, type_proc, docount= False, spacing=2, directory_=f\"diagrams/order3_{type_proc[0][1]}to{type_proc[0][0]}/\")"
   ]
  },
  {
   "cell_type": "code",
   "execution_count": 6,
   "id": "5968c692",
   "metadata": {},
   "outputs": [],
   "source": [
    "type_proc = [[2, 2]]\n",
    "till_order = 4\n",
    "\n",
    "points2, paths2, count2 = next_order([can_points_1st], [can_paths_1st], [can_number_1st], type_proc, till_order)\n",
    "points3, paths3, count3 = next_order([can_points_1st, points2], [can_paths_1st ,paths2], [can_number_1st, count2],type_proc, till_order)\n",
    "points4, paths4, count4 = next_order([can_points_1st, points2, points3], [can_paths_1st ,paths2, paths3], [can_number_1st, count2, count3],type_proc, till_order)"
   ]
  },
  {
   "cell_type": "code",
   "execution_count": 7,
   "id": "ffd51404",
   "metadata": {},
   "outputs": [],
   "source": [
    "represent_order(points4, paths4, count4, type_proc, docount= False, spacing=2, directory_=f\"diagrams/order4_{type_proc[0][1]}to{type_proc[0][0]}/\")"
   ]
  },
  {
   "cell_type": "code",
   "execution_count": 32,
   "id": "8961fe06",
   "metadata": {},
   "outputs": [],
   "source": [
    "represent_diagram(can_points_1st[0], can_paths_1st[0], colors= [\"black\", \"black\"], directory=f\"diagrams/canonical/order1/1.png\", index=True)\n",
    "represent_diagram(can_points_1st[1], can_paths_1st[1],colors= [\"black\", \"black\"], directory=f\"diagrams/canonical/order1/2.png\", index=True)"
   ]
  },
  {
   "cell_type": "code",
   "execution_count": 33,
   "id": "9b5b0fe2",
   "metadata": {},
   "outputs": [],
   "source": [
    "for i in range(len(can_points_2nd)):\n",
    "    represent_diagram(can_points_2nd[i], can_paths_2nd[i], colors= [\"black\", \"black\"],line=['solid', 'dotted'] , directory=f\"diagrams/canonical/order2/{i+1}.png\", index=True)"
   ]
  },
  {
   "cell_type": "markdown",
   "id": "af187625",
   "metadata": {},
   "source": [
    "### Study of the number of diagrams created at every order"
   ]
  },
  {
   "cell_type": "code",
   "execution_count": 34,
   "id": "f1c17076",
   "metadata": {},
   "outputs": [
    {
     "name": "stdout",
     "output_type": "stream",
     "text": [
      "Order 2\n",
      "1\n",
      "Number of diagrams in order None : 128\n",
      "Elapsed wall time: 0.015033 s\n",
      "17\n",
      "Order 3\n",
      "2\n",
      "Number of diagrams in order None : 4896\n",
      "Elapsed wall time: 0.249509 s\n",
      "82\n",
      "Order 4\n"
     ]
    },
    {
     "ename": "KeyboardInterrupt",
     "evalue": "",
     "output_type": "error",
     "traceback": [
      "\u001b[1;31m---------------------------------------------------------------------------\u001b[0m",
      "\u001b[1;31mKeyboardInterrupt\u001b[0m                         Traceback (most recent call last)",
      "Cell \u001b[1;32mIn[34], line 20\u001b[0m\n\u001b[0;32m     18\u001b[0m \u001b[38;5;28mprint\u001b[39m(\u001b[38;5;124m\"\u001b[39m\u001b[38;5;124mOrder 4\u001b[39m\u001b[38;5;124m\"\u001b[39m)\n\u001b[0;32m     19\u001b[0m start \u001b[38;5;241m=\u001b[39m time\u001b[38;5;241m.\u001b[39mtime()\n\u001b[1;32m---> 20\u001b[0m points4, paths4, count4 \u001b[38;5;241m=\u001b[39m next_order([can_points_1st, points2, points3], [can_paths_1st ,paths2, paths3], [can_number_1st, count2, count3],type_proc, till_order, print_reduction\u001b[38;5;241m=\u001b[39m\u001b[38;5;28;01mTrue\u001b[39;00m)\n\u001b[0;32m     21\u001b[0m end \u001b[38;5;241m=\u001b[39m time\u001b[38;5;241m.\u001b[39mtime()\n\u001b[0;32m     22\u001b[0m \u001b[38;5;28mprint\u001b[39m(\u001b[38;5;124mf\u001b[39m\u001b[38;5;124m\"\u001b[39m\u001b[38;5;124mElapsed wall time: \u001b[39m\u001b[38;5;132;01m{\u001b[39;00mend\u001b[38;5;250m \u001b[39m\u001b[38;5;241m-\u001b[39m\u001b[38;5;250m \u001b[39mstart\u001b[38;5;132;01m:\u001b[39;00m\u001b[38;5;124m.6f\u001b[39m\u001b[38;5;132;01m}\u001b[39;00m\u001b[38;5;124m s\u001b[39m\u001b[38;5;124m\"\u001b[39m)\n",
      "File \u001b[1;32mc:\\Users\\liuge\\Documents\\Universidad\\Cuarto\\TFG\\edp-renormalization\\python\\functions\\gluon_functions.py:1213\u001b[0m, in \u001b[0;36mnext_order\u001b[1;34m(points, paths, count, typeofproc, max_order, print_reduction)\u001b[0m\n\u001b[0;32m   1209\u001b[0m                     represent_diagram(points[i], paths[i], index\u001b[38;5;241m=\u001b[39mindex_, line\u001b[38;5;241m=\u001b[39mlines_, colors\u001b[38;5;241m=\u001b[39mcolors_, count\u001b[38;5;241m=\u001b[39m\u001b[38;5;241m0\u001b[39m)\n\u001b[0;32m   1210\u001b[0m             n \u001b[38;5;241m+\u001b[39m\u001b[38;5;241m=\u001b[39m \u001b[38;5;241m1\u001b[39m\n\u001b[1;32m-> 1213\u001b[0m \u001b[38;5;28;01mdef\u001b[39;00m \u001b[38;5;21mnext_order\u001b[39m (points, paths, count, typeofproc, max_order, print_reduction \u001b[38;5;241m=\u001b[39m \u001b[38;5;28;01mFalse\u001b[39;00m):\n\u001b[0;32m   1214\u001b[0m     next_points, next_paths, next_count \u001b[38;5;241m=\u001b[39m combine_diagrams_order(points, paths, count, typeofproc, max_order, offset \u001b[38;5;241m=\u001b[39m \u001b[38;5;241m0\u001b[39m)\n\u001b[0;32m   1215\u001b[0m     \u001b[38;5;28;01mif\u001b[39;00m print_reduction:\n",
      "File \u001b[1;32mc:\\Users\\liuge\\Documents\\Universidad\\Cuarto\\TFG\\edp-renormalization\\python\\functions\\gluon_functions.py:659\u001b[0m, in \u001b[0;36mcombine_diagrams_order\u001b[1;34m(points, paths, count, typeofproc, max_order, offset)\u001b[0m\n\u001b[0;32m    657\u001b[0m \u001b[38;5;28;01mfor\u001b[39;00m o \u001b[38;5;129;01min\u001b[39;00m \u001b[38;5;28mrange\u001b[39m(n_types):\n\u001b[0;32m    658\u001b[0m     \u001b[38;5;28;01mfor\u001b[39;00m p \u001b[38;5;129;01min\u001b[39;00m \u001b[38;5;28mrange\u001b[39m(\u001b[38;5;28mlen\u001b[39m(simp_paths[\u001b[38;5;241m0\u001b[39m])):\n\u001b[1;32m--> 659\u001b[0m         new_paths[n, o, p] \u001b[38;5;241m=\u001b[39m simp_paths[o, p]\n\u001b[0;32m    660\u001b[0m new_count[n] \u001b[38;5;241m=\u001b[39m can_count[i][k] \u001b[38;5;241m*\u001b[39m count[j][l] \n\u001b[0;32m    661\u001b[0m n \u001b[38;5;241m+\u001b[39m\u001b[38;5;241m=\u001b[39m \u001b[38;5;241m1\u001b[39m\n",
      "\u001b[1;31mKeyboardInterrupt\u001b[0m: "
     ]
    }
   ],
   "source": [
    "type_proc = [[2, 2]]\n",
    "till_order = 6\n",
    "\n",
    "import time\n",
    "\n",
    "print(\"Order 2\")\n",
    "start = time.time()\n",
    "points2, paths2, count2 = next_order([can_points_1st], [can_paths_1st], [can_number_1st], type_proc, till_order, print_reduction=True)\n",
    "end = time.time()\n",
    "print(f\"Elapsed wall time: {end - start:.6f} s\")\n",
    "print(len(points2))\n",
    "print(\"Order 3\")\n",
    "start = time.time()\n",
    "points3, paths3, count3 = next_order([can_points_1st, points2], [can_paths_1st ,paths2], [can_number_1st, count2],type_proc, till_order, print_reduction=True)\n",
    "end = time.time()\n",
    "print(f\"Elapsed wall time: {end - start:.6f} s\")\n",
    "print(len(points3))\n",
    "print(\"Order 4\")\n",
    "start = time.time()\n",
    "points4, paths4, count4 = next_order([can_points_1st, points2, points3], [can_paths_1st ,paths2, paths3], [can_number_1st, count2, count3],type_proc, till_order, print_reduction=True)\n",
    "end = time.time()\n",
    "print(f\"Elapsed wall time: {end - start:.6f} s\")\n",
    "print(len(points4))\n",
    "print(\"Order 5\")\n",
    "start = time.time()\n",
    "points5, paths5, count5 = next_order([can_points_1st, points2, points3, points4], [can_paths_1st ,paths2, paths3, paths4], [can_number_1st, count2, count3, count4],type_proc, till_order, print_reduction=True)\n",
    "end = time.time()\n",
    "print(f\"Elapsed wall time: {end - start:.6f} s\")\n",
    "print(len(points5))\n",
    "print(\"Order 6\")\n",
    "start = time.time()\n",
    "points6, paths6, count6 = next_order([can_points_1st, points2, points3, points4, points5], [can_paths_1st ,paths2, paths3, paths4, paths5], [can_number_1st, count2, count3, count4, count5],type_proc, till_order, print_reduction=True)\n",
    "end = time.time()\n",
    "print(f\"Elapsed wall time: {end - start:.6f} s\")\n",
    "print(len(points6))\n",
    "counter_points6, counter_paths6, counter_count6 = counterterms(points6, paths6, count6)\n",
    "represent_order(points6, paths6, count6, type_proc, docount= False, spacing=2, directory_=f\"diagrams/order{till_order}_{type_proc[0][1]}to{type_proc[0][0]}/\")\n",
    "represent_order(counter_points6, counter_paths6, counter_count6, type_proc, docount= False, spacing=2, directory_=f\"diagrams/order{till_order}_{type_proc[0][1]}to{type_proc[0][0]}/counterterms/\")\n"
   ]
  },
  {
   "cell_type": "code",
   "execution_count": 38,
   "id": "5cbcb81b",
   "metadata": {},
   "outputs": [],
   "source": [
    "type_proc = [[1, 1]]\n",
    "till_order = 4\n",
    "\n",
    "points2, paths2, count2 = next_order([can_points_1st], [can_paths_1st], [can_number_1st], type_proc, till_order)\n",
    "points3, paths3, count3 = next_order([can_points_1st, points2], [can_paths_1st ,paths2], [can_number_1st, count2],type_proc, till_order)\n",
    "points4, paths4, count4 = next_order([can_points_1st, points2, points3], [can_paths_1st ,paths2, paths3], [can_number_1st, count2, count3],type_proc, till_order)\n",
    "represent_order(points4, paths4, count4, type_proc, docount= False, spacing=2, directory_=f\"diagrams/order{till_order}_{type_proc[0][1]}to{type_proc[0][0]}/\")"
   ]
  },
  {
   "cell_type": "code",
   "execution_count": 39,
   "id": "3a6baed0",
   "metadata": {},
   "outputs": [
    {
     "ename": "KeyboardInterrupt",
     "evalue": "",
     "output_type": "error",
     "traceback": [
      "\u001b[1;31m---------------------------------------------------------------------------\u001b[0m",
      "\u001b[1;31mKeyboardInterrupt\u001b[0m                         Traceback (most recent call last)",
      "Cell \u001b[1;32mIn[39], line 8\u001b[0m\n\u001b[0;32m      6\u001b[0m points4, paths4, count4 \u001b[38;5;241m=\u001b[39m next_order([can_points_1st, points2, points3], [can_paths_1st ,paths2, paths3], [can_number_1st, count2, count3],type_proc, till_order)\n\u001b[0;32m      7\u001b[0m points5, paths5, count5 \u001b[38;5;241m=\u001b[39m next_order([can_points_1st, points2, points3, points4], [can_paths_1st ,paths2, paths3, paths4], [can_number_1st, count2, count3, count4],type_proc, till_order)\n\u001b[1;32m----> 8\u001b[0m points6, paths6, count6 \u001b[38;5;241m=\u001b[39m next_order([can_points_1st, points2, points3, points4, points5], [can_paths_1st ,paths2, paths3, paths4, paths5], [can_number_1st, count2, count3, count4, count5],type_proc, till_order)\n\u001b[0;32m      9\u001b[0m represent_order(points6, paths6, count6, type_proc, docount\u001b[38;5;241m=\u001b[39m \u001b[38;5;28;01mFalse\u001b[39;00m, spacing\u001b[38;5;241m=\u001b[39m\u001b[38;5;241m2\u001b[39m, directory_\u001b[38;5;241m=\u001b[39m\u001b[38;5;124mf\u001b[39m\u001b[38;5;124m\"\u001b[39m\u001b[38;5;124mdiagrams/order\u001b[39m\u001b[38;5;132;01m{\u001b[39;00mtill_order\u001b[38;5;132;01m}\u001b[39;00m\u001b[38;5;124m_\u001b[39m\u001b[38;5;132;01m{\u001b[39;00mtype_proc[\u001b[38;5;241m0\u001b[39m][\u001b[38;5;241m1\u001b[39m]\u001b[38;5;132;01m}\u001b[39;00m\u001b[38;5;124mto\u001b[39m\u001b[38;5;132;01m{\u001b[39;00mtype_proc[\u001b[38;5;241m0\u001b[39m][\u001b[38;5;241m0\u001b[39m]\u001b[38;5;132;01m}\u001b[39;00m\u001b[38;5;124m/\u001b[39m\u001b[38;5;124m\"\u001b[39m)\n",
      "File \u001b[1;32mc:\\Users\\liuge\\Documents\\Universidad\\Cuarto\\TFG\\edp-renormalization\\python\\functions\\gluon_functions.py:1213\u001b[0m, in \u001b[0;36mnext_order\u001b[1;34m(points, paths, count, typeofproc, max_order, print_reduction)\u001b[0m\n\u001b[0;32m   1209\u001b[0m                     represent_diagram(points[i], paths[i], index\u001b[38;5;241m=\u001b[39mindex_, line\u001b[38;5;241m=\u001b[39mlines_, colors\u001b[38;5;241m=\u001b[39mcolors_, count\u001b[38;5;241m=\u001b[39m\u001b[38;5;241m0\u001b[39m)\n\u001b[0;32m   1210\u001b[0m             n \u001b[38;5;241m+\u001b[39m\u001b[38;5;241m=\u001b[39m \u001b[38;5;241m1\u001b[39m\n\u001b[1;32m-> 1213\u001b[0m \u001b[38;5;28;01mdef\u001b[39;00m \u001b[38;5;21mnext_order\u001b[39m (points, paths, count, typeofproc, max_order, print_reduction \u001b[38;5;241m=\u001b[39m \u001b[38;5;28;01mFalse\u001b[39;00m):\n\u001b[0;32m   1214\u001b[0m     next_points, next_paths, next_count \u001b[38;5;241m=\u001b[39m combine_diagrams_order(points, paths, count, typeofproc, max_order, offset \u001b[38;5;241m=\u001b[39m \u001b[38;5;241m0\u001b[39m)\n\u001b[0;32m   1215\u001b[0m     \u001b[38;5;28;01mif\u001b[39;00m print_reduction:\n",
      "File \u001b[1;32mc:\\Users\\liuge\\Documents\\Universidad\\Cuarto\\TFG\\edp-renormalization\\python\\functions\\gluon_functions.py:601\u001b[0m, in \u001b[0;36mcombine_diagrams_order\u001b[1;34m(points, paths, count, typeofproc, max_order, offset)\u001b[0m\n\u001b[0;32m    599\u001b[0m \u001b[38;5;28;01mfor\u001b[39;00m k \u001b[38;5;129;01min\u001b[39;00m \u001b[38;5;28mrange\u001b[39m(\u001b[38;5;28mlen\u001b[39m(dummy_paths)):\n\u001b[0;32m    600\u001b[0m     \u001b[38;5;28;01mif\u001b[39;00m(curr_order\u001b[38;5;241m+\u001b[39m\u001b[38;5;241m1\u001b[39m  \u001b[38;5;241m==\u001b[39m max_order): \n\u001b[1;32m--> 601\u001b[0m         in_out_path \u001b[38;5;241m=\u001b[39m in_out_paths(dummy_paths[k])\n\u001b[0;32m    602\u001b[0m         \u001b[38;5;28;01mif\u001b[39;00m (\u001b[38;5;28mlen\u001b[39m(np\u001b[38;5;241m.\u001b[39mtrim_zeros(in_out_path[\u001b[38;5;241m0\u001b[39m, \u001b[38;5;241m0\u001b[39m])) \u001b[38;5;241m!=\u001b[39m typeofproc[\u001b[38;5;241m0\u001b[39m][\u001b[38;5;241m1\u001b[39m] \u001b[38;5;129;01mor\u001b[39;00m \u001b[38;5;28mlen\u001b[39m(np\u001b[38;5;241m.\u001b[39mtrim_zeros(in_out_path[\u001b[38;5;241m0\u001b[39m, \u001b[38;5;241m1\u001b[39m]))\u001b[38;5;241m!=\u001b[39m typeofproc[\u001b[38;5;241m0\u001b[39m][\u001b[38;5;241m0\u001b[39m]):\n\u001b[0;32m    603\u001b[0m             \u001b[38;5;28;01mcontinue\u001b[39;00m\n",
      "File \u001b[1;32mc:\\Users\\liuge\\Documents\\Universidad\\Cuarto\\TFG\\edp-renormalization\\python\\functions\\gluon_functions.py:214\u001b[0m, in \u001b[0;36min_out_paths\u001b[1;34m(paths)\u001b[0m\n\u001b[0;32m    212\u001b[0m \u001b[38;5;66;03m#len(paths) is the number of type of particles\u001b[39;00m\n\u001b[0;32m    213\u001b[0m in_out_paths \u001b[38;5;241m=\u001b[39m np\u001b[38;5;241m.\u001b[39mzeros((\u001b[38;5;28mlen\u001b[39m(paths), \u001b[38;5;241m2\u001b[39m, max_len), dtype\u001b[38;5;241m=\u001b[39m\u001b[38;5;28mint\u001b[39m)\n\u001b[1;32m--> 214\u001b[0m unique_vals \u001b[38;5;241m=\u001b[39m unique_values(paths\u001b[38;5;241m.\u001b[39mflatten())\n\u001b[0;32m    215\u001b[0m \u001b[38;5;28;01mfor\u001b[39;00m i \u001b[38;5;129;01min\u001b[39;00m \u001b[38;5;28mrange\u001b[39m(\u001b[38;5;28mlen\u001b[39m(paths)):\n\u001b[0;32m    216\u001b[0m     inp \u001b[38;5;241m=\u001b[39m \u001b[38;5;241m0\u001b[39m\n",
      "File \u001b[1;32mc:\\Users\\liuge\\Documents\\Universidad\\Cuarto\\TFG\\edp-renormalization\\python\\functions\\gluon_functions.py:206\u001b[0m, in \u001b[0;36munique_values\u001b[1;34m(array)\u001b[0m\n\u001b[0;32m    205\u001b[0m \u001b[38;5;28;01mdef\u001b[39;00m \u001b[38;5;21munique_values\u001b[39m(array):\n\u001b[1;32m--> 206\u001b[0m     unique, counts \u001b[38;5;241m=\u001b[39m np\u001b[38;5;241m.\u001b[39munique(array, return_counts\u001b[38;5;241m=\u001b[39m\u001b[38;5;28;01mTrue\u001b[39;00m)\n\u001b[0;32m    207\u001b[0m     unique_values \u001b[38;5;241m=\u001b[39m unique[counts \u001b[38;5;241m==\u001b[39m \u001b[38;5;241m1\u001b[39m]\n\u001b[0;32m    208\u001b[0m     \u001b[38;5;28;01mreturn\u001b[39;00m unique_values\n",
      "File \u001b[1;32mc:\\Users\\liuge\\anaconda3\\Lib\\site-packages\\numpy\\lib\\arraysetops.py:274\u001b[0m, in \u001b[0;36munique\u001b[1;34m(ar, return_index, return_inverse, return_counts, axis, equal_nan)\u001b[0m\n\u001b[0;32m    272\u001b[0m ar \u001b[38;5;241m=\u001b[39m np\u001b[38;5;241m.\u001b[39masanyarray(ar)\n\u001b[0;32m    273\u001b[0m \u001b[38;5;28;01mif\u001b[39;00m axis \u001b[38;5;129;01mis\u001b[39;00m \u001b[38;5;28;01mNone\u001b[39;00m:\n\u001b[1;32m--> 274\u001b[0m     ret \u001b[38;5;241m=\u001b[39m _unique1d(ar, return_index, return_inverse, return_counts, \n\u001b[0;32m    275\u001b[0m                     equal_nan\u001b[38;5;241m=\u001b[39mequal_nan)\n\u001b[0;32m    276\u001b[0m     \u001b[38;5;28;01mreturn\u001b[39;00m _unpack_tuple(ret)\n\u001b[0;32m    278\u001b[0m \u001b[38;5;66;03m# axis was specified and not None\u001b[39;00m\n",
      "File \u001b[1;32mc:\\Users\\liuge\\anaconda3\\Lib\\site-packages\\numpy\\lib\\arraysetops.py:336\u001b[0m, in \u001b[0;36m_unique1d\u001b[1;34m(ar, return_index, return_inverse, return_counts, equal_nan)\u001b[0m\n\u001b[0;32m    334\u001b[0m     aux \u001b[38;5;241m=\u001b[39m ar[perm]\n\u001b[0;32m    335\u001b[0m \u001b[38;5;28;01melse\u001b[39;00m:\n\u001b[1;32m--> 336\u001b[0m     ar\u001b[38;5;241m.\u001b[39msort()\n\u001b[0;32m    337\u001b[0m     aux \u001b[38;5;241m=\u001b[39m ar\n\u001b[0;32m    338\u001b[0m mask \u001b[38;5;241m=\u001b[39m np\u001b[38;5;241m.\u001b[39mempty(aux\u001b[38;5;241m.\u001b[39mshape, dtype\u001b[38;5;241m=\u001b[39mnp\u001b[38;5;241m.\u001b[39mbool_)\n",
      "\u001b[1;31mKeyboardInterrupt\u001b[0m: "
     ]
    }
   ],
   "source": [
    "type_proc = [[1, 1]]\n",
    "till_order = 6\n",
    "\n",
    "points2, paths2, count2 = next_order([can_points_1st], [can_paths_1st], [can_number_1st], type_proc, till_order)\n",
    "points3, paths3, count3 = next_order([can_points_1st, points2], [can_paths_1st ,paths2], [can_number_1st, count2],type_proc, till_order)\n",
    "points4, paths4, count4 = next_order([can_points_1st, points2, points3], [can_paths_1st ,paths2, paths3], [can_number_1st, count2, count3],type_proc, till_order)\n",
    "points5, paths5, count5 = next_order([can_points_1st, points2, points3, points4], [can_paths_1st ,paths2, paths3, paths4], [can_number_1st, count2, count3, count4],type_proc, till_order)\n",
    "points6, paths6, count6 = next_order([can_points_1st, points2, points3, points4, points5], [can_paths_1st ,paths2, paths3, paths4, paths5], [can_number_1st, count2, count3, count4, count5],type_proc, till_order)\n",
    "represent_order(points6, paths6, count6, type_proc, docount= False, spacing=2, directory_=f\"diagrams/order{till_order}_{type_proc[0][1]}to{type_proc[0][0]}/\")"
   ]
  }
 ],
 "metadata": {
  "kernelspec": {
   "display_name": "base",
   "language": "python",
   "name": "python3"
  },
  "language_info": {
   "codemirror_mode": {
    "name": "ipython",
    "version": 3
   },
   "file_extension": ".py",
   "mimetype": "text/x-python",
   "name": "python",
   "nbconvert_exporter": "python",
   "pygments_lexer": "ipython3",
   "version": "3.12.7"
  }
 },
 "nbformat": 4,
 "nbformat_minor": 5
}
