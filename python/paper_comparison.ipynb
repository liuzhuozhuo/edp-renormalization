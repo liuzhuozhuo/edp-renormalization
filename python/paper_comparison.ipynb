{
 "cells": [
  {
   "cell_type": "markdown",
   "id": "2a83840b",
   "metadata": {},
   "source": [
    "Here is the code used to create many of the diagrams shown in the thesis."
   ]
  },
  {
   "cell_type": "code",
   "execution_count": 1,
   "id": "320ad81f",
   "metadata": {},
   "outputs": [],
   "source": [
    "import numpy as np\n",
    "from tqdm import tqdm\n",
    "#Import the cannonical gluon diagrams\n",
    "from functions.can_diagrams.gluon_diagrams import * \n",
    "from functions.gluon_functions import *"
   ]
  },
  {
   "cell_type": "code",
   "execution_count": 4,
   "id": "d6344f18",
   "metadata": {},
   "outputs": [],
   "source": [
    "type_proc = [[2, 1]]\n",
    "till_order = 3"
   ]
  },
  {
   "cell_type": "code",
   "execution_count": 5,
   "id": "d8b0fbf9",
   "metadata": {},
   "outputs": [
    {
     "name": "stderr",
     "output_type": "stream",
     "text": [
      "100%|██████████| 2/2 [00:00<00:00, 182.27it/s]\n",
      "100%|██████████| 1/1 [00:00<00:00, 26214.40it/s]\n",
      "100%|██████████| 2/2 [00:00<00:00, 21.78it/s]\n",
      "100%|██████████| 1/1 [00:00<00:00, 32.77it/s]\n",
      "100%|██████████| 13/13 [00:00<00:00, 28193.36it/s]\n"
     ]
    }
   ],
   "source": [
    "points2, paths2, count2 = next_order([can_points_1st], [can_paths_1st], [can_number_1st], type_proc, till_order)\n",
    "points3, paths3, count3 = next_order([can_points_1st, points2], [can_paths_1st ,paths2], [can_number_1st, count2],type_proc, till_order)\n",
    "\n",
    "counter_points3, counter_paths3, counter_count3 = counterterms(points3, paths3, count3)"
   ]
  },
  {
   "cell_type": "code",
   "execution_count": 6,
   "id": "90e588e5",
   "metadata": {},
   "outputs": [
    {
     "name": "stderr",
     "output_type": "stream",
     "text": [
      "100%|██████████| 16/16 [00:00<00:00, 30587.45it/s]\n"
     ]
    }
   ],
   "source": [
    "represent_order(points2, paths2, count2, [], docount= False, spacing=2, directory_=f\"diagrams/order2/\")\n",
    "counter_points2, counter_paths2, counter_count2 = counterterms(points2, paths2, count2)\n",
    "represent_order(counter_points2, counter_paths2, counter_count2, [], docount= False, spacing=2, directory_=f\"diagrams/order2/counterterms/\")"
   ]
  },
  {
   "cell_type": "code",
   "execution_count": 4,
   "id": "d2f0ed48",
   "metadata": {},
   "outputs": [],
   "source": [
    "represent_order(points3, paths3, count3, type_proc, docount= False, spacing=2, directory_=f\"diagrams/order{till_order}_{type_proc[0][1]}to{type_proc[0][0]}/\")\n",
    "represent_order(counter_points3, counter_paths3, counter_count3, type_proc, docount= False, spacing=2, directory_=f\"diagrams/order{till_order}_{type_proc[0][1]}to{type_proc[0][0]}/counterterms/\")"
   ]
  },
  {
   "cell_type": "code",
   "execution_count": 5,
   "id": "5968c692",
   "metadata": {},
   "outputs": [
    {
     "name": "stderr",
     "output_type": "stream",
     "text": [
      "100%|██████████| 2/2 [00:00<00:00, 91.74it/s]\n",
      "100%|██████████| 1/1 [00:00<00:00, 22192.08it/s]\n",
      "100%|██████████| 2/2 [00:00<00:00, 25.44it/s]\n",
      "100%|██████████| 1/1 [00:00<00:00, 18.85it/s]\n",
      "100%|██████████| 2/2 [00:00<00:00, 12.17it/s]\n",
      "100%|██████████| 1/1 [00:00<00:00,  2.13it/s]\n",
      "100%|██████████| 95/95 [00:00<00:00, 17750.31it/s]\n"
     ]
    }
   ],
   "source": [
    "type_proc = [[2, 2]]\n",
    "till_order = 4\n",
    "\n",
    "points2, paths2, count2 = next_order([can_points_1st], [can_paths_1st], [can_number_1st], type_proc, till_order)\n",
    "points3, paths3, count3 = next_order([can_points_1st, points2], [can_paths_1st ,paths2], [can_number_1st, count2],type_proc, till_order)\n",
    "points4, paths4, count4 = next_order([can_points_1st, points2, points3], [can_paths_1st ,paths2, paths3], [can_number_1st, count2, count3],type_proc, till_order)\n",
    "counter_points4, counter_paths4, counter_count4 = counterterms(points4, paths4, count4)"
   ]
  },
  {
   "cell_type": "code",
   "execution_count": 6,
   "id": "ffd51404",
   "metadata": {},
   "outputs": [],
   "source": [
    "represent_order(points4, paths4, count4, type_proc, docount= False, spacing=2, directory_=f\"diagrams/order{till_order}_{type_proc[0][1]}to{type_proc[0][0]}/\")\n",
    "represent_order(counter_points4, counter_paths4, counter_count4, type_proc, docount= False, spacing=2, directory_=f\"diagrams/order{till_order}_{type_proc[0][1]}to{type_proc[0][0]}/counterterms/\")"
   ]
  },
  {
   "cell_type": "code",
   "execution_count": 7,
   "id": "8961fe06",
   "metadata": {},
   "outputs": [],
   "source": [
    "represent_diagram(can_points_1st[0], can_paths_1st[0], colors= [\"black\", \"black\"], directory=f\"diagrams/canonical/order1/1.png\", index=True)\n",
    "represent_diagram(can_points_1st[1], can_paths_1st[1],colors= [\"black\", \"black\"], directory=f\"diagrams/canonical/order1/2.png\", index=True)"
   ]
  },
  {
   "cell_type": "code",
   "execution_count": 5,
   "id": "9b5b0fe2",
   "metadata": {},
   "outputs": [],
   "source": [
    "for i in range(len(can_points_2nd)):\n",
    "    represent_diagram(can_points_2nd[i], can_paths_2nd[i], colors= [\"black\", \"black\"],line=['solid', 'dotted'] , directory=f\"diagrams/canonical/order2/{i+1}.png\", index=True)"
   ]
  },
  {
   "cell_type": "markdown",
   "id": "af187625",
   "metadata": {},
   "source": [
    "### Study of the number of diagrams created at every order"
   ]
  },
  {
   "cell_type": "code",
   "execution_count": 3,
   "id": "f1c17076",
   "metadata": {},
   "outputs": [
    {
     "name": "stdout",
     "output_type": "stream",
     "text": [
      "Order 2\n"
     ]
    },
    {
     "name": "stderr",
     "output_type": "stream",
     "text": [
      "100%|██████████| 2/2 [00:00<00:00, 132.82it/s]\n",
      "100%|██████████| 1/1 [00:00<?, ?it/s]\n"
     ]
    },
    {
     "name": "stdout",
     "output_type": "stream",
     "text": [
      "1\n",
      "Number of diagrams in order None : 64\n",
      "Elapsed wall time: 0.027084 s\n",
      "16\n",
      "Order 3\n"
     ]
    },
    {
     "name": "stderr",
     "output_type": "stream",
     "text": [
      "100%|██████████| 2/2 [00:00<00:00,  9.48it/s]\n",
      "100%|██████████| 1/1 [00:00<00:00,  7.82it/s]\n"
     ]
    },
    {
     "name": "stdout",
     "output_type": "stream",
     "text": [
      "2\n",
      "Number of diagrams in order None : 2304\n",
      "Elapsed wall time: 0.441350 s\n",
      "76\n",
      "Order 4\n"
     ]
    },
    {
     "name": "stderr",
     "output_type": "stream",
     "text": [
      "100%|██████████| 2/2 [00:00<00:00,  3.20it/s]\n",
      "100%|██████████| 1/1 [00:01<00:00,  1.97s/it]\n"
     ]
    },
    {
     "name": "stdout",
     "output_type": "stream",
     "text": [
      "3\n",
      "Number of diagrams in order None : 14592\n",
      "Elapsed wall time: 2.758733 s\n",
      "612\n",
      "Order 5\n"
     ]
    },
    {
     "name": "stderr",
     "output_type": "stream",
     "text": [
      "100%|██████████| 2/2 [00:09<00:00,  4.51s/it]\n",
      "100%|██████████| 1/1 [00:18<00:00, 18.77s/it]\n"
     ]
    },
    {
     "name": "stdout",
     "output_type": "stream",
     "text": [
      "4\n",
      "Number of diagrams in order None : 146880\n",
      "Elapsed wall time: 29.226045 s\n",
      "5871\n",
      "Order 6\n"
     ]
    },
    {
     "name": "stderr",
     "output_type": "stream",
     "text": [
      "100%|██████████| 2/2 [01:13<00:00, 36.80s/it]\n",
      "100%|██████████| 1/1 [01:29<00:00, 89.07s/it]\n"
     ]
    },
    {
     "name": "stdout",
     "output_type": "stream",
     "text": [
      "5\n",
      "Number of diagrams in order None : 1690848\n",
      "Elapsed wall time: 170.610350 s\n",
      "3130\n"
     ]
    },
    {
     "name": "stderr",
     "output_type": "stream",
     "text": [
      "100%|██████████| 3130/3130 [00:00<00:00, 4735.24it/s]\n"
     ]
    }
   ],
   "source": [
    "type_proc = [[2, 2]]\n",
    "till_order = 6\n",
    "\n",
    "import time\n",
    "\n",
    "print(\"Order 2\")\n",
    "start = time.time()\n",
    "points2, paths2, count2 = next_order([can_points_1st], [can_paths_1st], [can_number_1st], type_proc, till_order, print_reduction=True)\n",
    "end = time.time()\n",
    "print(f\"Elapsed wall time: {end - start:.6f} s\")\n",
    "print(len(points2))\n",
    "print(\"Order 3\")\n",
    "start = time.time()\n",
    "points3, paths3, count3 = next_order([can_points_1st, points2], [can_paths_1st ,paths2], [can_number_1st, count2],type_proc, till_order, print_reduction=True)\n",
    "end = time.time()\n",
    "print(f\"Elapsed wall time: {end - start:.6f} s\")\n",
    "print(len(points3))\n",
    "print(\"Order 4\")\n",
    "start = time.time()\n",
    "points4, paths4, count4 = next_order([can_points_1st, points2, points3], [can_paths_1st ,paths2, paths3], [can_number_1st, count2, count3],type_proc, till_order, print_reduction=True)\n",
    "end = time.time()\n",
    "print(f\"Elapsed wall time: {end - start:.6f} s\")\n",
    "print(len(points4))\n",
    "print(\"Order 5\")\n",
    "start = time.time()\n",
    "points5, paths5, count5 = next_order([can_points_1st, points2, points3, points4], [can_paths_1st ,paths2, paths3, paths4], [can_number_1st, count2, count3, count4],type_proc, till_order, print_reduction=True)\n",
    "end = time.time()\n",
    "print(f\"Elapsed wall time: {end - start:.6f} s\")\n",
    "print(len(points5))\n",
    "print(\"Order 6\")\n",
    "start = time.time()\n",
    "points6, paths6, count6 = next_order([can_points_1st, points2, points3, points4, points5], [can_paths_1st ,paths2, paths3, paths4, paths5], [can_number_1st, count2, count3, count4, count5],type_proc, till_order, print_reduction=True)\n",
    "end = time.time()\n",
    "print(f\"Elapsed wall time: {end - start:.6f} s\")\n",
    "print(len(points6))\n",
    "counter_points6, counter_paths6, counter_count6 = counterterms(points6, paths6, count6)\n",
    "represent_order(points6, paths6, count6, type_proc, docount= False, spacing=2, directory_=f\"diagrams/order{till_order}_{type_proc[0][1]}to{type_proc[0][0]}/\")\n",
    "represent_order(counter_points6, counter_paths6, counter_count6, type_proc, docount= False, spacing=2, directory_=f\"diagrams/order{till_order}_{type_proc[0][1]}to{type_proc[0][0]}/counterterms/\")\n"
   ]
  },
  {
   "cell_type": "code",
   "execution_count": 7,
   "id": "5cbcb81b",
   "metadata": {},
   "outputs": [
    {
     "name": "stderr",
     "output_type": "stream",
     "text": [
      "100%|██████████| 2/2 [00:00<00:00, 152.16it/s]\n",
      "100%|██████████| 1/1 [00:00<00:00, 43240.25it/s]\n",
      "100%|██████████| 2/2 [00:00<00:00, 26.98it/s]\n",
      "100%|██████████| 1/1 [00:00<00:00, 18.85it/s]\n",
      "100%|██████████| 2/2 [00:00<00:00, 19.06it/s]\n",
      "100%|██████████| 1/1 [00:00<00:00,  3.42it/s]\n",
      "100%|██████████| 7/7 [00:00<00:00, 15947.92it/s]\n"
     ]
    }
   ],
   "source": [
    "type_proc = [[1, 1]]\n",
    "till_order = 4\n",
    "\n",
    "points2, paths2, count2 = next_order([can_points_1st], [can_paths_1st], [can_number_1st], type_proc, till_order)\n",
    "points3, paths3, count3 = next_order([can_points_1st, points2], [can_paths_1st ,paths2], [can_number_1st, count2],type_proc, till_order)\n",
    "points4, paths4, count4 = next_order([can_points_1st, points2, points3], [can_paths_1st ,paths2, paths3], [can_number_1st, count2, count3],type_proc, till_order)\n",
    "counter_points4, counter_paths4, counter_count4 = counterterms(points4, paths4, count4)\n",
    "represent_order(points4, paths4, count4, type_proc, docount= False, spacing=2, directory_=f\"diagrams/order{till_order}_{type_proc[0][1]}to{type_proc[0][0]}/\")\n",
    "represent_order(counter_points4, counter_paths4, counter_count4, type_proc, docount= False, spacing=2, directory_=f\"diagrams/order{till_order}_{type_proc[0][1]}to{type_proc[0][0]}/counterterms/\")"
   ]
  },
  {
   "cell_type": "code",
   "execution_count": 3,
   "id": "3a6baed0",
   "metadata": {},
   "outputs": [
    {
     "name": "stderr",
     "output_type": "stream",
     "text": [
      "100%|██████████| 2/2 [00:00<00:00, 231.03it/s]\n",
      "100%|██████████| 1/1 [00:00<?, ?it/s]\n",
      "100%|██████████| 2/2 [00:00<00:00, 19.14it/s]\n",
      "100%|██████████| 1/1 [00:00<00:00, 14.18it/s]\n",
      "100%|██████████| 2/2 [00:00<00:00,  6.02it/s]\n",
      "100%|██████████| 1/1 [00:01<00:00,  1.06s/it]\n",
      "100%|██████████| 2/2 [00:04<00:00,  2.09s/it]\n",
      "100%|██████████| 1/1 [00:08<00:00,  8.70s/it]\n",
      "100%|██████████| 2/2 [00:23<00:00, 11.89s/it]\n",
      "100%|██████████| 1/1 [00:37<00:00, 37.06s/it]\n",
      "100%|██████████| 131/131 [00:00<00:00, 15056.00it/s]\n"
     ]
    }
   ],
   "source": [
    "type_proc = [[1, 1]]\n",
    "till_order = 6\n",
    "\n",
    "points2, paths2, count2 = next_order([can_points_1st], [can_paths_1st], [can_number_1st], type_proc, till_order)\n",
    "points3, paths3, count3 = next_order([can_points_1st, points2], [can_paths_1st ,paths2], [can_number_1st, count2],type_proc, till_order)\n",
    "points4, paths4, count4 = next_order([can_points_1st, points2, points3], [can_paths_1st ,paths2, paths3], [can_number_1st, count2, count3],type_proc, till_order)\n",
    "points5, paths5, count5 = next_order([can_points_1st, points2, points3, points4], [can_paths_1st ,paths2, paths3, paths4], [can_number_1st, count2, count3, count4],type_proc, till_order)\n",
    "points6, paths6, count6 = next_order([can_points_1st, points2, points3, points4, points5], [can_paths_1st ,paths2, paths3, paths4, paths5], [can_number_1st, count2, count3, count4, count5],type_proc, till_order)\n",
    "counter_points6, counter_paths6, counter_count6 = counterterms(points6, paths6, count6)\n",
    "represent_order(points6, paths6, count6, type_proc, docount= False, spacing=2, directory_=f\"diagrams/order{till_order}_{type_proc[0][1]}to{type_proc[0][0]}/\")\n",
    "represent_order(counter_points6, counter_paths6, counter_count6, type_proc, docount= False, spacing=2, directory_=f\"diagrams/order{till_order}_{type_proc[0][1]}to{type_proc[0][0]}/counterterms/\")"
   ]
  }
 ],
 "metadata": {
  "kernelspec": {
   "display_name": "base",
   "language": "python",
   "name": "python3"
  },
  "language_info": {
   "codemirror_mode": {
    "name": "ipython",
    "version": 3
   },
   "file_extension": ".py",
   "mimetype": "text/x-python",
   "name": "python",
   "nbconvert_exporter": "python",
   "pygments_lexer": "ipython3",
   "version": "3.10.13"
  }
 },
 "nbformat": 4,
 "nbformat_minor": 5
}
