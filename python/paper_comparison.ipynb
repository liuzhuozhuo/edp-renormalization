{
 "cells": [
  {
   "cell_type": "code",
   "execution_count": 1,
   "id": "320ad81f",
   "metadata": {},
   "outputs": [],
   "source": [
    "import numpy as np\n",
    "from tqdm import tqdm\n",
    "#Import the cannonical gluon diagrams\n",
    "from functions.can_diagrams.gluon_diagrams import * \n",
    "from functions.gluon_functions import *"
   ]
  },
  {
   "cell_type": "code",
   "execution_count": 2,
   "id": "d6344f18",
   "metadata": {},
   "outputs": [],
   "source": [
    "type_proc = [[2, 1]]\n",
    "till_order = 3"
   ]
  },
  {
   "cell_type": "code",
   "execution_count": 3,
   "id": "d8b0fbf9",
   "metadata": {},
   "outputs": [
    {
     "name": "stderr",
     "output_type": "stream",
     "text": [
      "100%|██████████| 2/2 [00:00<00:00, 285.23it/s]\n",
      "100%|██████████| 1/1 [00:00<00:00, 17623.13it/s]\n",
      "100%|██████████| 2/2 [00:00<00:00, 45.75it/s]\n",
      "100%|██████████| 1/1 [00:00<00:00, 33.29it/s]\n",
      "100%|██████████| 13/13 [00:00<00:00, 27947.69it/s]\n"
     ]
    }
   ],
   "source": [
    "points2, paths2, count2 = next_order([can_points_1st], [can_paths_1st], [can_number_1st], type_proc, till_order)\n",
    "points3, paths3, count3 = next_order([can_points_1st, points2], [can_paths_1st ,paths2], [can_number_1st, count2],type_proc, till_order)\n",
    "\n",
    "counter_points3, counter_paths3, counter_count3 = counterterms(points3, paths3, count3)"
   ]
  },
  {
   "cell_type": "code",
   "execution_count": 4,
   "id": "d2f0ed48",
   "metadata": {},
   "outputs": [],
   "source": [
    "represent_order(points3, paths3, count3, type_proc, docount= False, spacing=2, directory_=f\"diagrams/order{till_order}_{type_proc[0][1]}to{type_proc[0][0]}/\")\n",
    "represent_order(counter_points3, counter_paths3, counter_count3, type_proc, docount= False, spacing=2, directory_=f\"diagrams/order{till_order}_{type_proc[0][1]}to{type_proc[0][0]}/counterterms/\")"
   ]
  },
  {
   "cell_type": "code",
   "execution_count": 5,
   "id": "5968c692",
   "metadata": {},
   "outputs": [
    {
     "name": "stderr",
     "output_type": "stream",
     "text": [
      "100%|██████████| 2/2 [00:00<00:00, 337.95it/s]\n",
      "100%|██████████| 1/1 [00:00<00:00, 43240.25it/s]\n",
      "100%|██████████| 2/2 [00:00<00:00, 25.79it/s]\n",
      "100%|██████████| 1/1 [00:00<00:00, 19.41it/s]\n",
      "100%|██████████| 2/2 [00:00<00:00, 13.15it/s]\n",
      "100%|██████████| 1/1 [00:00<00:00,  2.20it/s]\n",
      "100%|██████████| 95/95 [00:00<00:00, 20364.86it/s]\n"
     ]
    }
   ],
   "source": [
    "type_proc = [[2, 2]]\n",
    "till_order = 4\n",
    "\n",
    "points2, paths2, count2 = next_order([can_points_1st], [can_paths_1st], [can_number_1st], type_proc, till_order)\n",
    "points3, paths3, count3 = next_order([can_points_1st, points2], [can_paths_1st ,paths2], [can_number_1st, count2],type_proc, till_order)\n",
    "points4, paths4, count4 = next_order([can_points_1st, points2, points3], [can_paths_1st ,paths2, paths3], [can_number_1st, count2, count3],type_proc, till_order)\n",
    "counter_points4, counter_paths4, counter_count4 = counterterms(points4, paths4, count4)"
   ]
  },
  {
   "cell_type": "code",
   "execution_count": 6,
   "id": "ffd51404",
   "metadata": {},
   "outputs": [],
   "source": [
    "represent_order(points4, paths4, count4, type_proc, docount= False, spacing=2, directory_=f\"diagrams/order{till_order}_{type_proc[0][1]}to{type_proc[0][0]}/\")\n",
    "represent_order(counter_points4, counter_paths4, counter_count4, type_proc, docount= False, spacing=2, directory_=f\"diagrams/order{till_order}_{type_proc[0][1]}to{type_proc[0][0]}/counterterms/\")"
   ]
  },
  {
   "cell_type": "code",
   "execution_count": 13,
   "id": "8961fe06",
   "metadata": {},
   "outputs": [],
   "source": [
    "represent_diagram(can_points_1st[0], can_paths_1st[0], colors= [\"black\", \"black\"], directory=f\"diagrams/cannonical/order1/1.png\", index=True)\n",
    "represent_diagram(can_points_1st[1], can_paths_1st[1],colors= [\"black\", \"black\"], directory=f\"diagrams/cannonical/order1/2.png\", index=True)"
   ]
  }
 ],
 "metadata": {
  "kernelspec": {
   "display_name": "base",
   "language": "python",
   "name": "python3"
  },
  "language_info": {
   "codemirror_mode": {
    "name": "ipython",
    "version": 3
   },
   "file_extension": ".py",
   "mimetype": "text/x-python",
   "name": "python",
   "nbconvert_exporter": "python",
   "pygments_lexer": "ipython3",
   "version": "3.10.13"
  }
 },
 "nbformat": 4,
 "nbformat_minor": 5
}
