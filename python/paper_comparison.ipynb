{
 "cells": [
  {
   "cell_type": "code",
   "execution_count": 1,
   "id": "320ad81f",
   "metadata": {},
   "outputs": [],
   "source": [
    "import numpy as np\n",
    "from tqdm import tqdm\n",
    "#Import the cannonical gluon diagrams\n",
    "from functions.can_diagrams.gluon_diagrams import * \n",
    "from functions.gluon_functions import *"
   ]
  },
  {
   "cell_type": "code",
   "execution_count": 2,
   "id": "d6344f18",
   "metadata": {},
   "outputs": [],
   "source": [
    "type_proc = [[2, 1]]\n",
    "till_order = 3"
   ]
  },
  {
   "cell_type": "code",
   "execution_count": 3,
   "id": "d8b0fbf9",
   "metadata": {},
   "outputs": [
    {
     "name": "stderr",
     "output_type": "stream",
     "text": [
      "100%|██████████| 2/2 [00:00<00:00, 103.52it/s]\n",
      "100%|██████████| 1/1 [00:00<00:00, 35848.75it/s]\n"
     ]
    }
   ],
   "source": [
    "points_2nd, paths_2nd, count_2nd = combine_diagrams_order([can_points_1st], [can_paths_1st], [can_number_1st], type_proc, till_order, offset=0)\n",
    "points2, paths2, count2 = group_diagrams(points_2nd, paths_2nd, count_2nd)"
   ]
  },
  {
   "cell_type": "code",
   "execution_count": 4,
   "id": "d7c54e73",
   "metadata": {},
   "outputs": [
    {
     "name": "stderr",
     "output_type": "stream",
     "text": [
      "  0%|          | 0/2 [00:00<?, ?it/s]"
     ]
    },
    {
     "name": "stderr",
     "output_type": "stream",
     "text": [
      "100%|██████████| 2/2 [00:00<00:00, 25.34it/s]\n",
      "100%|██████████| 1/1 [00:00<00:00, 10.35it/s]\n"
     ]
    }
   ],
   "source": [
    "points_3rd, paths_3rd, count_3rd = combine_diagrams_order([can_points_1st, points2], [can_paths_1st ,paths2], [can_number_1st, count2],type_proc, till_order, offset=0)\n",
    "points3, paths3, count3 = group_diagrams(points_3rd, paths_3rd, count_3rd)"
   ]
  },
  {
   "cell_type": "code",
   "execution_count": 5,
   "id": "5c35981a",
   "metadata": {},
   "outputs": [
    {
     "name": "stderr",
     "output_type": "stream",
     "text": [
      "100%|██████████| 13/13 [00:00<00:00, 20931.27it/s]\n"
     ]
    }
   ],
   "source": [
    "counter_points3, counter_paths3, counter_count3 = counterterms(points3, paths3, count3)"
   ]
  },
  {
   "cell_type": "code",
   "execution_count": 6,
   "id": "d2f0ed48",
   "metadata": {},
   "outputs": [],
   "source": [
    "represent_order(points3, paths3, count3, type_proc, docount= False, spacing=2, directory_=f\"diagrams/order{till_order}_{type_proc[0][1]}to{type_proc[0][0]}/\")\n",
    "represent_order(counter_points3, counter_paths3, counter_count3, type_proc, docount= False, spacing=2, directory_=f\"diagrams/order{till_order}_{type_proc[0][1]}to{type_proc[0][0]}/counterterms/\")"
   ]
  }
 ],
 "metadata": {
  "kernelspec": {
   "display_name": "base",
   "language": "python",
   "name": "python3"
  },
  "language_info": {
   "codemirror_mode": {
    "name": "ipython",
    "version": 3
   },
   "file_extension": ".py",
   "mimetype": "text/x-python",
   "name": "python",
   "nbconvert_exporter": "python",
   "pygments_lexer": "ipython3",
   "version": "3.10.13"
  }
 },
 "nbformat": 4,
 "nbformat_minor": 5
}
