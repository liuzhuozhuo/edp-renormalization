{
 "cells": [
  {
   "cell_type": "code",
   "execution_count": 5,
   "id": "320ad81f",
   "metadata": {},
   "outputs": [],
   "source": [
    "import numpy as np\n",
    "from tqdm import tqdm\n",
    "#Import the cannonical gluon diagrams\n",
    "from functions.can_diagrams.gluon_diagrams import * \n",
    "from functions.gluon_functions import *"
   ]
  },
  {
   "cell_type": "code",
   "execution_count": 6,
   "id": "d6344f18",
   "metadata": {},
   "outputs": [],
   "source": [
    "type_proc = [[2, 1]]\n",
    "till_order = 3"
   ]
  },
  {
   "cell_type": "code",
   "execution_count": 7,
   "id": "d8b0fbf9",
   "metadata": {},
   "outputs": [
    {
     "name": "stderr",
     "output_type": "stream",
     "text": [
      "100%|██████████| 2/2 [00:00<00:00, 171.79it/s]\n",
      "100%|██████████| 1/1 [00:00<00:00, 27776.85it/s]\n",
      "100%|██████████| 2/2 [00:00<00:00, 42.99it/s]\n",
      "100%|██████████| 1/1 [00:00<00:00, 30.83it/s]\n",
      "100%|██████████| 13/13 [00:00<00:00, 27140.84it/s]\n"
     ]
    }
   ],
   "source": [
    "points2, paths2, count2 = next_order([can_points_1st], [can_paths_1st], [can_number_1st], type_proc, till_order)\n",
    "points3, paths3, count3 = next_order([can_points_1st, points2], [can_paths_1st ,paths2], [can_number_1st, count2],type_proc, till_order)\n",
    "\n",
    "counter_points3, counter_paths3, counter_count3 = counterterms(points3, paths3, count3)"
   ]
  },
  {
   "cell_type": "code",
   "execution_count": 8,
   "id": "d2f0ed48",
   "metadata": {},
   "outputs": [],
   "source": [
    "represent_order(points3, paths3, count3, type_proc, docount= False, spacing=2, directory_=f\"diagrams/order{till_order}_{type_proc[0][1]}to{type_proc[0][0]}/\")\n",
    "represent_order(counter_points3, counter_paths3, counter_count3, type_proc, docount= False, spacing=2, directory_=f\"diagrams/order{till_order}_{type_proc[0][1]}to{type_proc[0][0]}/counterterms/\")"
   ]
  }
 ],
 "metadata": {
  "kernelspec": {
   "display_name": "base",
   "language": "python",
   "name": "python3"
  },
  "language_info": {
   "codemirror_mode": {
    "name": "ipython",
    "version": 3
   },
   "file_extension": ".py",
   "mimetype": "text/x-python",
   "name": "python",
   "nbconvert_exporter": "python",
   "pygments_lexer": "ipython3",
   "version": "3.10.13"
  }
 },
 "nbformat": 4,
 "nbformat_minor": 5
}
