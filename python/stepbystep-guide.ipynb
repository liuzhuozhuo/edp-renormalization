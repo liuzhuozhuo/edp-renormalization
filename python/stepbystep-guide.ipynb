{
 "cells": [
  {
   "cell_type": "markdown",
   "id": "2ff58d11",
   "metadata": {},
   "source": [
    "# Guide to use gluon_functions.py \n",
    "\n",
    "Let's start by importing the necessary libraries, and the python files where the functions and the canonical diagrams are defined "
   ]
  },
  {
   "cell_type": "code",
   "execution_count": 15,
   "id": "4c837f63",
   "metadata": {},
   "outputs": [],
   "source": [
    "#External libraries\n",
    "import numpy as np\n",
    "\n",
    "#Internal libraries\n",
    "from functions.can_diagrams.gluon_diagrams import * \n",
    "from functions.gluon_functions import *"
   ]
  },
  {
   "cell_type": "markdown",
   "id": "b2246e93",
   "metadata": {},
   "source": [
    "### Define the diagrams \n",
    "\n",
    "In the general case, considering $n$ types of particles, for example we could consider quarks, anti-quarks, gluons, ... In this case we will consider only gluons, but define the instant process in the second order canonical diagrams as a different type of particles. \n",
    "\n",
    "The diagrams will be composed of 2 elements, `points` and `paths`.\n",
    "- `points`: contains the coordinates in the 2D plane where a \"connection\" can be produced. In general any type of particles could be connected to those points.\n",
    "- `paths`: contains the ways the points are connected. For that, we indicate the position in the points array of the start and the end of the line/path. This will be the way we differentiate between the different types of particles.\n",
    "\n",
    "During the calculations, we may obtain many diagrams of the same form, let's introduce a new array `count` where it will keep count of the repeated diagrams. This way we reduce the amount of unnecessary calculation.\n",
    "\n",
    "Let's see as an example a possible diagram from the canonical diagrams of 2nd order."
   ]
  },
  {
   "cell_type": "code",
   "execution_count": 16,
   "id": "9725d64b",
   "metadata": {},
   "outputs": [],
   "source": [
    "points = np.array([[0, 1], [0, 3], [0, 5], [1, 4], [2, 3], [4, 1]])\n",
    "paths_g = np.array([[1, 5], [2, 4], [3, 4], [5, 6]])\n",
    "paths_i = np.array([[4, 5]])\n",
    "paths = combine_paths(paths_g, paths_i)"
   ]
  },
  {
   "cell_type": "markdown",
   "id": "2a6cd246",
   "metadata": {},
   "source": [
    "### Represent the diagrams\n",
    "\n",
    "Once we have the diagrams defined/calculated, in order for us to appreciate it, we can represent by using the function `represent_diagram`. This function take as parameters,- - `points`: \n",
    "- `paths`:\n",
    "- "
   ]
  },
  {
   "cell_type": "code",
   "execution_count": 17,
   "id": "dde63786",
   "metadata": {},
   "outputs": [
    {
     "data": {
      "image/png": "[encoded data removed]",
      "text/plain": [
       "<Figure size 500x300 with 1 Axes>"
      ]
     },
     "metadata": {},
     "output_type": "display_data"
    }
   ],
   "source": [
    "represent_diagram(points, paths, index=True, colors = ['black', 'black'], line = ['photon', 'dotted'])"
   ]
  },
  {
   "cell_type": "markdown",
   "id": "3f47a758",
   "metadata": {},
   "source": [
    "### Indicate the process of interest and the order to calculate.\n",
    "\n",
    "In order to streamline the calculations, it's needed to indicate before the calculations the type of process that we are interested in studying, and till which order do we plan to calculate. This way we can remove the diagrams that will not contribute to the process, not only at the interested order, but also in the previous orders, this way reducing substantially the calculations needed.\n",
    "\n",
    "We will use `typeofproc` to indicate the number of incoming and outgoing particles of each type of particles, following the structure. \n",
    "- Axis 0: type of particle\n",
    "- Axis 1: incoming `typeofproc[:, 0]`, and outgoing `typeofproc[:, 1]` "
   ]
  },
  {
   "cell_type": "code",
   "execution_count": null,
   "id": "26fa7dce",
   "metadata": {},
   "outputs": [],
   "source": [
    "typeofproc = [[2, 1]]\n",
    "tillorder = 5"
   ]
  },
  {
   "cell_type": "markdown",
   "id": "6880133a",
   "metadata": {},
   "source": [
    "### Calculate order by order"
   ]
  }
 ],
 "metadata": {
  "kernelspec": {
   "display_name": "base",
   "language": "python",
   "name": "python3"
  },
  "language_info": {
   "codemirror_mode": {
    "name": "ipython",
    "version": 3
   },
   "file_extension": ".py",
   "mimetype": "text/x-python",
   "name": "python",
   "nbconvert_exporter": "python",
   "pygments_lexer": "ipython3",
   "version": "3.10.13"
  }
 },
 "nbformat": 4,
 "nbformat_minor": 5
}
